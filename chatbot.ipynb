{
 "cells": [
  {
   "cell_type": "code",
   "execution_count": null,
   "metadata": {},
   "outputs": [],
   "source": [
    "import nltk\n",
    "import random\n",
    "from sklearn.feature_extraction.text import TfidfVectorizer\n",
    "from sklearn.metrics.pairwise import cosine_similarity      \n",
    "import pandas as pd\n",
    "import warnings\n",
    "warnings.filterwarnings('ignore')\n",
    "# import spacy\n",
    "lemmatizer = nltk.stem.WordNetLemmatizer()\n",
    "\n",
    "# Download required NLTK data\n",
    "# nltk.download('stopwords')\n",
    "# nltk.download('punkt')\n",
    "# nltk.download('wordnet')"
   ]
  },
  {
   "cell_type": "code",
   "execution_count": 2,
   "metadata": {},
   "outputs": [
    {
     "data": {
      "text/html": [
       "<div>\n",
       "<style scoped>\n",
       "    .dataframe tbody tr th:only-of-type {\n",
       "        vertical-align: middle;\n",
       "    }\n",
       "\n",
       "    .dataframe tbody tr th {\n",
       "        vertical-align: top;\n",
       "    }\n",
       "\n",
       "    .dataframe thead th {\n",
       "        text-align: right;\n",
       "    }\n",
       "</style>\n",
       "<table border=\"1\" class=\"dataframe\">\n",
       "  <thead>\n",
       "    <tr style=\"text-align: right;\">\n",
       "      <th></th>\n",
       "      <th>0</th>\n",
       "      <th>1</th>\n",
       "    </tr>\n",
       "  </thead>\n",
       "  <tbody>\n",
       "    <tr>\n",
       "      <th>0</th>\n",
       "      <td>Customer</td>\n",
       "      <td>Hi, I'm looking to buy a new phone, and I'm i...</td>\n",
       "    </tr>\n",
       "    <tr>\n",
       "      <th>1</th>\n",
       "      <td>Sales Agent</td>\n",
       "      <td>Great, we have a wide range of Samsung phones...</td>\n",
       "    </tr>\n",
       "    <tr>\n",
       "      <th>2</th>\n",
       "      <td>Customer</td>\n",
       "      <td>Well, I want a phone with a good camera, long...</td>\n",
       "    </tr>\n",
       "    <tr>\n",
       "      <th>3</th>\n",
       "      <td>Sales Agent</td>\n",
       "      <td>Absolutely. We have a lot of great options th...</td>\n",
       "    </tr>\n",
       "    <tr>\n",
       "      <th>4</th>\n",
       "      <td>Customer</td>\n",
       "      <td>No, I haven't. Tell me more about it.</td>\n",
       "    </tr>\n",
       "    <tr>\n",
       "      <th>5</th>\n",
       "      <td>Sales Agent</td>\n",
       "      <td>The Galaxy S21 Ultra has a 108-megapixel came...</td>\n",
       "    </tr>\n",
       "    <tr>\n",
       "      <th>6</th>\n",
       "      <td>Customer</td>\n",
       "      <td>That sounds great. How much does it cost?</td>\n",
       "    </tr>\n",
       "    <tr>\n",
       "      <th>7</th>\n",
       "      <td>Sales Agent</td>\n",
       "      <td>The Galaxy S21 Ultra starts at $1,199, but we...</td>\n",
       "    </tr>\n",
       "    <tr>\n",
       "      <th>8</th>\n",
       "      <td>Customer</td>\n",
       "      <td>Okay, I'm interested. But I have a few more q...</td>\n",
       "    </tr>\n",
       "    <tr>\n",
       "      <th>9</th>\n",
       "      <td>Sales Agent</td>\n",
       "      <td>The Galaxy S21 Ultra comes with a standard on...</td>\n",
       "    </tr>\n",
       "  </tbody>\n",
       "</table>\n",
       "</div>"
      ],
      "text/plain": [
       "             0                                                  1\n",
       "0     Customer   Hi, I'm looking to buy a new phone, and I'm i...\n",
       "1  Sales Agent   Great, we have a wide range of Samsung phones...\n",
       "2     Customer   Well, I want a phone with a good camera, long...\n",
       "3  Sales Agent   Absolutely. We have a lot of great options th...\n",
       "4     Customer              No, I haven't. Tell me more about it.\n",
       "5  Sales Agent   The Galaxy S21 Ultra has a 108-megapixel came...\n",
       "6     Customer          That sounds great. How much does it cost?\n",
       "7  Sales Agent   The Galaxy S21 Ultra starts at $1,199, but we...\n",
       "8     Customer   Okay, I'm interested. But I have a few more q...\n",
       "9  Sales Agent   The Galaxy S21 Ultra comes with a standard on..."
      ]
     },
     "execution_count": 2,
     "metadata": {},
     "output_type": "execute_result"
    }
   ],
   "source": [
    "data = pd.read_csv('Samsung Dialog.txt', sep =':', header = None)\n",
    "data.head(10)"
   ]
  },
  {
   "cell_type": "code",
   "execution_count": 3,
   "metadata": {},
   "outputs": [
    {
     "data": {
      "text/html": [
       "<div>\n",
       "<style scoped>\n",
       "    .dataframe tbody tr th:only-of-type {\n",
       "        vertical-align: middle;\n",
       "    }\n",
       "\n",
       "    .dataframe tbody tr th {\n",
       "        vertical-align: top;\n",
       "    }\n",
       "\n",
       "    .dataframe thead th {\n",
       "        text-align: right;\n",
       "    }\n",
       "</style>\n",
       "<table border=\"1\" class=\"dataframe\">\n",
       "  <thead>\n",
       "    <tr style=\"text-align: right;\">\n",
       "      <th></th>\n",
       "      <th>Question</th>\n",
       "      <th>Answer</th>\n",
       "    </tr>\n",
       "  </thead>\n",
       "  <tbody>\n",
       "    <tr>\n",
       "      <th>0</th>\n",
       "      <td>Hi, I'm looking to buy a new phone, and I'm i...</td>\n",
       "      <td>Great, we have a wide range of Samsung phones...</td>\n",
       "    </tr>\n",
       "    <tr>\n",
       "      <th>1</th>\n",
       "      <td>Well, I want a phone with a good camera, long...</td>\n",
       "      <td>Absolutely. We have a lot of great options th...</td>\n",
       "    </tr>\n",
       "    <tr>\n",
       "      <th>2</th>\n",
       "      <td>No, I haven't. Tell me more about it.</td>\n",
       "      <td>The Galaxy S21 Ultra has a 108-megapixel came...</td>\n",
       "    </tr>\n",
       "    <tr>\n",
       "      <th>3</th>\n",
       "      <td>That sounds great. How much does it cost?</td>\n",
       "      <td>The Galaxy S21 Ultra starts at $1,199, but we...</td>\n",
       "    </tr>\n",
       "    <tr>\n",
       "      <th>4</th>\n",
       "      <td>Okay, I'm interested. But I have a few more q...</td>\n",
       "      <td>The Galaxy S21 Ultra comes with a standard on...</td>\n",
       "    </tr>\n",
       "  </tbody>\n",
       "</table>\n",
       "</div>"
      ],
      "text/plain": [
       "                                            Question  \\\n",
       "0   Hi, I'm looking to buy a new phone, and I'm i...   \n",
       "1   Well, I want a phone with a good camera, long...   \n",
       "2              No, I haven't. Tell me more about it.   \n",
       "3          That sounds great. How much does it cost?   \n",
       "4   Okay, I'm interested. But I have a few more q...   \n",
       "\n",
       "                                              Answer  \n",
       "0   Great, we have a wide range of Samsung phones...  \n",
       "1   Absolutely. We have a lot of great options th...  \n",
       "2   The Galaxy S21 Ultra has a 108-megapixel came...  \n",
       "3   The Galaxy S21 Ultra starts at $1,199, but we...  \n",
       "4   The Galaxy S21 Ultra comes with a standard on...  "
      ]
     },
     "execution_count": 3,
     "metadata": {},
     "output_type": "execute_result"
    }
   ],
   "source": [
    "cust = data.loc[data[0] == 'Customer']\n",
    "sales = data.loc[data[0] == 'Sales Agent']\n",
    "\n",
    "\n",
    "sales = sales[1].reset_index(drop = True)\n",
    "cust = cust[1].reset_index(drop = True)\n",
    "\n",
    "new_data = pd.DataFrame()\n",
    "new_data['Question'] = cust \n",
    "new_data['Answer'] = sales \n",
    "\n",
    "\n",
    "new_data.head()"
   ]
  },
  {
   "cell_type": "code",
   "execution_count": 4,
   "metadata": {},
   "outputs": [
    {
     "data": {
      "text/html": [
       "<div>\n",
       "<style scoped>\n",
       "    .dataframe tbody tr th:only-of-type {\n",
       "        vertical-align: middle;\n",
       "    }\n",
       "\n",
       "    .dataframe tbody tr th {\n",
       "        vertical-align: top;\n",
       "    }\n",
       "\n",
       "    .dataframe thead th {\n",
       "        text-align: right;\n",
       "    }\n",
       "</style>\n",
       "<table border=\"1\" class=\"dataframe\">\n",
       "  <thead>\n",
       "    <tr style=\"text-align: right;\">\n",
       "      <th></th>\n",
       "      <th>Question</th>\n",
       "      <th>Answer</th>\n",
       "      <th>tokenized Questions</th>\n",
       "    </tr>\n",
       "  </thead>\n",
       "  <tbody>\n",
       "    <tr>\n",
       "      <th>0</th>\n",
       "      <td>Hi, I'm looking to buy a new phone, and I'm i...</td>\n",
       "      <td>Great, we have a wide range of Samsung phones...</td>\n",
       "      <td>hi i looking to buy a new phone and i interest...</td>\n",
       "    </tr>\n",
       "    <tr>\n",
       "      <th>1</th>\n",
       "      <td>Well, I want a phone with a good camera, long...</td>\n",
       "      <td>Absolutely. We have a lot of great options th...</td>\n",
       "      <td>well i want a phone with a good camera long ba...</td>\n",
       "    </tr>\n",
       "    <tr>\n",
       "      <th>2</th>\n",
       "      <td>No, I haven't. Tell me more about it.</td>\n",
       "      <td>The Galaxy S21 Ultra has a 108-megapixel came...</td>\n",
       "      <td>no i have tell me more about it</td>\n",
       "    </tr>\n",
       "    <tr>\n",
       "      <th>3</th>\n",
       "      <td>That sounds great. How much does it cost?</td>\n",
       "      <td>The Galaxy S21 Ultra starts at $1,199, but we...</td>\n",
       "      <td>that sound great how much doe it cost</td>\n",
       "    </tr>\n",
       "    <tr>\n",
       "      <th>4</th>\n",
       "      <td>Okay, I'm interested. But I have a few more q...</td>\n",
       "      <td>The Galaxy S21 Ultra comes with a standard on...</td>\n",
       "      <td>okay i interested but i have a few more questi...</td>\n",
       "    </tr>\n",
       "    <tr>\n",
       "      <th>5</th>\n",
       "      <td>That's good to know. And what about the opera...</td>\n",
       "      <td>Yes, the Galaxy S21 Ultra runs on Android 11,...</td>\n",
       "      <td>that good to know and what about the operating...</td>\n",
       "    </tr>\n",
       "    <tr>\n",
       "      <th>6</th>\n",
       "      <td>Okay, that's good. But I'm also interested in...</td>\n",
       "      <td>Absolutely. The Galaxy A52 is a great mid-ran...</td>\n",
       "      <td>okay that good but i also interested in some o...</td>\n",
       "    </tr>\n",
       "    <tr>\n",
       "      <th>7</th>\n",
       "      <td>That sounds like a good option for me. How mu...</td>\n",
       "      <td>The Galaxy A52 starts at $399, but again, we ...</td>\n",
       "      <td>that sound like a good option for me how much ...</td>\n",
       "    </tr>\n",
       "    <tr>\n",
       "      <th>8</th>\n",
       "      <td>Okay, I'll think about it. But can you also t...</td>\n",
       "      <td>Of course. The Galaxy Z Fold2 is a really uni...</td>\n",
       "      <td>okay i think about it but can you also tell me...</td>\n",
       "    </tr>\n",
       "    <tr>\n",
       "      <th>9</th>\n",
       "      <td>That sounds really cool, but it also sounds e...</td>\n",
       "      <td>The Galaxy Z Fold2 starts at $1,999, but agai...</td>\n",
       "      <td>that sound really cool but it also sound expen...</td>\n",
       "    </tr>\n",
       "    <tr>\n",
       "      <th>10</th>\n",
       "      <td>Hmm, I'm not sure. That's a lot of money for ...</td>\n",
       "      <td>I understand. The Galaxy Z Fold2 is definitel...</td>\n",
       "      <td>hmm i not sure that a lot of money for a phone</td>\n",
       "    </tr>\n",
       "    <tr>\n",
       "      <th>11</th>\n",
       "      <td>Okay, can you tell me more about the Galaxy A72?</td>\n",
       "      <td>Sure, the Galaxy A72 is another great mid-ran...</td>\n",
       "      <td>okay can you tell me more about the galaxy a72</td>\n",
       "    </tr>\n",
       "    <tr>\n",
       "      <th>12</th>\n",
       "      <td>That sounds like a great option for me. How m...</td>\n",
       "      <td>The Galaxy A72 starts at $449, but as I menti...</td>\n",
       "      <td>that sound like a great option for me how much...</td>\n",
       "    </tr>\n",
       "    <tr>\n",
       "      <th>13</th>\n",
       "      <td>Okay, I'll definitely consider it. But before...</td>\n",
       "      <td>Of course. We have a few different financing ...</td>\n",
       "      <td>okay i definitely consider it but before i mak...</td>\n",
       "    </tr>\n",
       "    <tr>\n",
       "      <th>14</th>\n",
       "      <td>That's good to know. And what if I have issue...</td>\n",
       "      <td>Yes, we offer a lot of support options for ou...</td>\n",
       "      <td>that good to know and what if i have issue wit...</td>\n",
       "    </tr>\n",
       "    <tr>\n",
       "      <th>15</th>\n",
       "      <td>Okay, that sounds great. I think I'm interest...</td>\n",
       "      <td>Great, I'm glad to hear that. To buy the phon...</td>\n",
       "      <td>okay that sound great i think i interested in ...</td>\n",
       "    </tr>\n",
       "    <tr>\n",
       "      <th>16</th>\n",
       "      <td>Okay, that sounds simple enough. Thanks for a...</td>\n",
       "      <td>You're welcome. If you have any other questio...</td>\n",
       "      <td>okay that sound simple enough thanks for all y...</td>\n",
       "    </tr>\n",
       "  </tbody>\n",
       "</table>\n",
       "</div>"
      ],
      "text/plain": [
       "                                             Question  \\\n",
       "0    Hi, I'm looking to buy a new phone, and I'm i...   \n",
       "1    Well, I want a phone with a good camera, long...   \n",
       "2               No, I haven't. Tell me more about it.   \n",
       "3           That sounds great. How much does it cost?   \n",
       "4    Okay, I'm interested. But I have a few more q...   \n",
       "5    That's good to know. And what about the opera...   \n",
       "6    Okay, that's good. But I'm also interested in...   \n",
       "7    That sounds like a good option for me. How mu...   \n",
       "8    Okay, I'll think about it. But can you also t...   \n",
       "9    That sounds really cool, but it also sounds e...   \n",
       "10   Hmm, I'm not sure. That's a lot of money for ...   \n",
       "11   Okay, can you tell me more about the Galaxy A72?   \n",
       "12   That sounds like a great option for me. How m...   \n",
       "13   Okay, I'll definitely consider it. But before...   \n",
       "14   That's good to know. And what if I have issue...   \n",
       "15   Okay, that sounds great. I think I'm interest...   \n",
       "16   Okay, that sounds simple enough. Thanks for a...   \n",
       "\n",
       "                                               Answer  \\\n",
       "0    Great, we have a wide range of Samsung phones...   \n",
       "1    Absolutely. We have a lot of great options th...   \n",
       "2    The Galaxy S21 Ultra has a 108-megapixel came...   \n",
       "3    The Galaxy S21 Ultra starts at $1,199, but we...   \n",
       "4    The Galaxy S21 Ultra comes with a standard on...   \n",
       "5    Yes, the Galaxy S21 Ultra runs on Android 11,...   \n",
       "6    Absolutely. The Galaxy A52 is a great mid-ran...   \n",
       "7    The Galaxy A52 starts at $399, but again, we ...   \n",
       "8    Of course. The Galaxy Z Fold2 is a really uni...   \n",
       "9    The Galaxy Z Fold2 starts at $1,999, but agai...   \n",
       "10   I understand. The Galaxy Z Fold2 is definitel...   \n",
       "11   Sure, the Galaxy A72 is another great mid-ran...   \n",
       "12   The Galaxy A72 starts at $449, but as I menti...   \n",
       "13   Of course. We have a few different financing ...   \n",
       "14   Yes, we offer a lot of support options for ou...   \n",
       "15   Great, I'm glad to hear that. To buy the phon...   \n",
       "16   You're welcome. If you have any other questio...   \n",
       "\n",
       "                                  tokenized Questions  \n",
       "0   hi i looking to buy a new phone and i interest...  \n",
       "1   well i want a phone with a good camera long ba...  \n",
       "2                     no i have tell me more about it  \n",
       "3               that sound great how much doe it cost  \n",
       "4   okay i interested but i have a few more questi...  \n",
       "5   that good to know and what about the operating...  \n",
       "6   okay that good but i also interested in some o...  \n",
       "7   that sound like a good option for me how much ...  \n",
       "8   okay i think about it but can you also tell me...  \n",
       "9   that sound really cool but it also sound expen...  \n",
       "10     hmm i not sure that a lot of money for a phone  \n",
       "11     okay can you tell me more about the galaxy a72  \n",
       "12  that sound like a great option for me how much...  \n",
       "13  okay i definitely consider it but before i mak...  \n",
       "14  that good to know and what if i have issue wit...  \n",
       "15  okay that sound great i think i interested in ...  \n",
       "16  okay that sound simple enough thanks for all y...  "
      ]
     },
     "execution_count": 4,
     "metadata": {},
     "output_type": "execute_result"
    }
   ],
   "source": [
    "#THE CODE FOR PREPROCESSING \n",
    "# Define a function for text preprocessing (including lemmatization)\n",
    "def preprocess_text(text):\n",
    "    # Identifies all sentences in the data\n",
    "    sentences = nltk.sent_tokenize(text)\n",
    "    \n",
    "    # Tokenize and lemmatize each word in each sentence\n",
    "    preprocessed_sentences = []\n",
    "    for sentence in sentences:\n",
    "        tokens = [lemmatizer.lemmatize(word.lower()) for word in nltk.word_tokenize(sentence) if word.isalnum()]\n",
    "        # Turns to basic root - each word in the tokenized word found in the tokenized sentence - if they are all alphanumeric \n",
    "        # The code above does the following:\n",
    "        # Identifies every word in the sentence \n",
    "        # Turns it to a lower case \n",
    "        # Lemmatizes it if the word is alphanumeric\n",
    "\n",
    "        preprocessed_sentence = ' '.join(tokens)\n",
    "        preprocessed_sentences.append(preprocessed_sentence)\n",
    "    \n",
    "    return ' '.join(preprocessed_sentences)\n",
    "\n",
    "\n",
    "new_data['tokenized Questions'] = new_data['Question'].apply(preprocess_text)\n",
    "new_data"
   ]
  },
  {
   "cell_type": "code",
   "execution_count": 5,
   "metadata": {},
   "outputs": [
    {
     "data": {
      "text/plain": [
       "['hi i looking to buy a new phone and i interested in samsung phone',\n",
       " 'well i want a phone with a good camera long battery life and plenty of storage',\n",
       " 'no i have tell me more about it',\n",
       " 'that sound great how much doe it cost',\n",
       " 'okay i interested but i have a few more question what kind of warranty come with the phone',\n",
       " 'that good to know and what about the operating system doe it come with the latest version of android',\n",
       " 'okay that good but i also interested in some of the other samsung phone can you tell me more about the galaxy a52',\n",
       " 'that sound like a good option for me how much doe it cost',\n",
       " 'okay i think about it but can you also tell me about the galaxy z fold2 i heard a lot about it and i curious',\n",
       " 'that sound really cool but it also sound expensive how much doe it cost',\n",
       " 'hmm i not sure that a lot of money for a phone',\n",
       " 'okay can you tell me more about the galaxy a72',\n",
       " 'that sound like a great option for me how much doe it cost',\n",
       " 'okay i definitely consider it but before i make a decision can you tell me more about the financing option',\n",
       " 'that good to know and what if i have issue with the phone do you offer any support',\n",
       " 'okay that sound great i think i interested in the galaxy a72 how do i go about buying it',\n",
       " 'okay that sound simple enough thanks for all your help']"
      ]
     },
     "execution_count": 5,
     "metadata": {},
     "output_type": "execute_result"
    }
   ],
   "source": [
    "xtrain = new_data['tokenized Questions'].to_list()\n",
    "xtrain"
   ]
  },
  {
   "cell_type": "code",
   "execution_count": 7,
   "metadata": {},
   "outputs": [
    {
     "name": "stdout",
     "output_type": "stream",
     "text": [
      "  (0, 71)\t0.3011232459093611\n",
      "  (0, 41)\t0.2700934382194581\n",
      "  (0, 42)\t0.2460248494975018\n",
      "  (0, 5)\t0.22635938061087743\n",
      "  (0, 67)\t0.4194649271573511\n",
      "  (0, 58)\t0.34485730351794186\n",
      "  (0, 11)\t0.34485730351794186\n",
      "  (0, 84)\t0.2700934382194581\n",
      "  (0, 51)\t0.34485730351794186\n",
      "  (0, 37)\t0.34485730351794186\n",
      "  (1, 75)\t0.3135527535104317\n",
      "  (1, 61)\t0.2058115236343365\n",
      "  (1, 68)\t0.3135527535104317\n",
      "  (1, 48)\t0.3135527535104317\n",
      "  (1, 8)\t0.3135527535104317\n",
      "  (1, 50)\t0.3135527535104317\n",
      "  (1, 13)\t0.3135527535104317\n",
      "  (1, 32)\t0.2058115236343365\n",
      "  (1, 90)\t0.22369185226757943\n",
      "  (1, 86)\t0.3135527535104317\n",
      "  (1, 88)\t0.3135527535104317\n",
      "  (1, 5)\t0.2058115236343365\n",
      "  (1, 67)\t0.19069392118064465\n",
      "  (2, 44)\t0.2707901771636704\n",
      "  (2, 2)\t0.30884634876971573\n",
      "  :\t:\n",
      "  (15, 31)\t0.33865461688136433\n",
      "  (15, 22)\t0.2957071705810691\n",
      "  (15, 1)\t0.2957071705810691\n",
      "  (15, 83)\t0.2957071705810691\n",
      "  (15, 30)\t0.2415997872161552\n",
      "  (15, 82)\t0.17934057989570892\n",
      "  (15, 63)\t0.19181632811123442\n",
      "  (15, 39)\t0.22228802619600418\n",
      "  (15, 33)\t0.26523547249629936\n",
      "  (15, 74)\t0.2059601649037593\n",
      "  (15, 81)\t0.15808525176743862\n",
      "  (15, 44)\t0.16818064283109027\n",
      "  (15, 2)\t0.19181632811123442\n",
      "  (15, 41)\t0.26523547249629936\n",
      "  (15, 42)\t0.2415997872161552\n",
      "  (16, 36)\t0.3671721695795806\n",
      "  (16, 92)\t0.3671721695795806\n",
      "  (16, 3)\t0.3671721695795806\n",
      "  (16, 80)\t0.3671721695795806\n",
      "  (16, 24)\t0.3671721695795806\n",
      "  (16, 72)\t0.3671721695795806\n",
      "  (16, 29)\t0.26194451107452843\n",
      "  (16, 63)\t0.2079688681110264\n",
      "  (16, 74)\t0.22330373432107462\n",
      "  (16, 81)\t0.17139735286797672\n"
     ]
    }
   ],
   "source": [
    "# Vectorize corpus\n",
    "tfidf_vectorizer = TfidfVectorizer()\n",
    "corpus = tfidf_vectorizer.fit_transform(xtrain)\n",
    "\n",
    "print(corpus)"
   ]
  },
  {
   "cell_type": "code",
   "execution_count": 8,
   "metadata": {},
   "outputs": [
    {
     "name": "stdout",
     "output_type": "stream",
     "text": [
      "\n"
     ]
    }
   ],
   "source": [
    "user = input ('pls ask your question:')\n",
    "print(user)"
   ]
  },
  {
   "cell_type": "code",
   "execution_count": 9,
   "metadata": {},
   "outputs": [
    {
     "data": {
      "text/plain": [
       "''"
      ]
     },
     "execution_count": 9,
     "metadata": {},
     "output_type": "execute_result"
    }
   ],
   "source": [
    "preprocess_text(user)"
   ]
  },
  {
   "cell_type": "code",
   "execution_count": 15,
   "metadata": {},
   "outputs": [
    {
     "name": "stdout",
     "output_type": "stream",
     "text": [
      "  (0, 86)\t0.516692197025499\n",
      "  (0, 84)\t0.40467512380384324\n",
      "  (0, 71)\t0.4511664097502943\n",
      "  (0, 67)\t0.3142375883838525\n",
      "  (0, 11)\t0.516692197025499\n"
     ]
    }
   ],
   "source": [
    "#vectorize user input\n",
    "user_transformed = tfidf_vectorizer.transform([user])\n",
    "print(user_transformed)"
   ]
  },
  {
   "cell_type": "code",
   "execution_count": 16,
   "metadata": {},
   "outputs": [
    {
     "data": {
      "text/plain": [
       "array([[0.55515351, 0.22193346, 0.        , 0.        , 0.06276609,\n",
       "        0.09191136, 0.17051172, 0.        , 0.        , 0.        ,\n",
       "        0.07620058, 0.        , 0.        , 0.        , 0.15294199,\n",
       "        0.        , 0.        ]])"
      ]
     },
     "execution_count": 16,
     "metadata": {},
     "output_type": "execute_result"
    }
   ],
   "source": [
    "# find similarity\n",
    "similarity_scores = cosine_similarity(user_transformed, corpus)\n",
    "similarity_scores"
   ]
  },
  {
   "cell_type": "code",
   "execution_count": 17,
   "metadata": {},
   "outputs": [
    {
     "data": {
      "text/plain": [
       "' Great, we have a wide range of Samsung phones to choose from. What features are you looking for in a phone?'"
      ]
     },
     "execution_count": 17,
     "metadata": {},
     "output_type": "execute_result"
    }
   ],
   "source": [
    "new_data['Answer'].iloc[similarity_scores.argmax()]"
   ]
  },
  {
   "cell_type": "code",
   "execution_count": 10,
   "metadata": {},
   "outputs": [],
   "source": [
    "def collector():\n",
    "    user = input('Pls ask your question: ')\n",
    "    pre_user = preprocess_text(user)\n",
    "    vect_user = tfidf_vectorizer.transform([pre_user])\n",
    "    similarity_scores = cosine_similarity(vect_user, corpus)\n",
    "    most_similar_index = similarity_scores.argmax()\n",
    "    \n",
    "    return new_data['Answer'].iloc[most_similar_index]"
   ]
  },
  {
   "cell_type": "code",
   "execution_count": 13,
   "metadata": {},
   "outputs": [
    {
     "name": "stdout",
     "output_type": "stream",
     "text": [
      "Hey, what do you need my help with\n",
      "Thanks for your usage..... bye\n"
     ]
    }
   ],
   "source": [
    "def responder(text):\n",
    "    user_input_processed = preprocess_text(text)\n",
    "    vectorized_user_input = tfidf_vectorizer.transform([user_input_processed])\n",
    "    similarity_score = cosine_similarity(vectorized_user_input, corpus)\n",
    "    argument_maximum = similarity_score.argmax()\n",
    "    return new_data['Answer'].iloc[argument_maximum]\n",
    "#  ----------------------------------------------------------------\n",
    "\n",
    "bot_greetings = ['Hello user, You are chatting with Mide......pls ask your question',\n",
    "                 'Hi user, how  may i help you',\n",
    "                 'Hey, what do you need my help with',\n",
    "                 'Hiyya, how can i be of help to you',\n",
    "                 'Wassap I am here to assist you with anything']\n",
    "\n",
    "bot_farewell = ['Thanks for your usage..... bye',\n",
    "                'Thank you so much for your time',\n",
    "                'Okay, have a nice day',\n",
    "                'Alright, stay safe']\n",
    "\n",
    "human_greetings = ['hi', 'hello there', 'hey', 'hello', 'wassap']\n",
    "\n",
    "human_exits = ['thanks bye', 'bye', 'quit', 'exit', 'bye bye', 'close']\n",
    "\n",
    "import random\n",
    "random_greeting = random.choice(bot_greetings)\n",
    "random_farewell = random.choice(bot_farewell)\n",
    "\n",
    "while True:\n",
    "    user_input = input('You: ')\n",
    "\n",
    "    if user_input.lower() in human_greetings:\n",
    "        print(random_greeting)\n",
    "    elif user_input.lower() in human_exits:\n",
    "        print(random_farewell)\n",
    "        break \n",
    "    else:\n",
    "        responder(user_input)"
   ]
  },
  {
   "cell_type": "code",
   "execution_count": null,
   "metadata": {},
   "outputs": [],
   "source": []
  },
  {
   "cell_type": "code",
   "execution_count": null,
   "metadata": {},
   "outputs": [],
   "source": []
  },
  {
   "cell_type": "code",
   "execution_count": null,
   "metadata": {},
   "outputs": [],
   "source": []
  },
  {
   "cell_type": "code",
   "execution_count": null,
   "metadata": {},
   "outputs": [],
   "source": []
  },
  {
   "cell_type": "code",
   "execution_count": null,
   "metadata": {},
   "outputs": [],
   "source": []
  }
 ],
 "metadata": {
  "kernelspec": {
   "display_name": "Python 3",
   "language": "python",
   "name": "python3"
  },
  "language_info": {
   "codemirror_mode": {
    "name": "ipython",
    "version": 3
   },
   "file_extension": ".py",
   "mimetype": "text/x-python",
   "name": "python",
   "nbconvert_exporter": "python",
   "pygments_lexer": "ipython3",
   "version": "3.11.0"
  }
 },
 "nbformat": 4,
 "nbformat_minor": 2
}
